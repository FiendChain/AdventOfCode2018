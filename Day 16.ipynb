{
 "cells": [
  {
   "cell_type": "code",
   "execution_count": 13,
   "metadata": {},
   "outputs": [],
   "source": [
    "from enum import Enum\n",
    "import re"
   ]
  },
  {
   "cell_type": "code",
   "execution_count": 4,
   "metadata": {},
   "outputs": [],
   "source": [
    "reg = [0, 0, 0, 0]"
   ]
  },
  {
   "cell_type": "code",
   "execution_count": 45,
   "metadata": {},
   "outputs": [],
   "source": [
    "class OpCodes:\n",
    "    # add\n",
    "    @staticmethod\n",
    "    def addr(a, b, c, reg):\n",
    "        reg[c]=reg[a]+reg[b]\n",
    "    \n",
    "    @staticmethod\n",
    "    def addi(a, b, c, reg):\n",
    "        reg[c]=reg[a]+b\n",
    "        \n",
    "    # multiply\n",
    "    @staticmethod\n",
    "    def mulr(a, b, c, reg):\n",
    "        reg[c]=reg[a]*reg[b]\n",
    "    \n",
    "    @staticmethod\n",
    "    def muli(a, b, c, reg):\n",
    "        reg[c]=reg[a]*b\n",
    "        \n",
    "    # bitwise and\n",
    "    @staticmethod\n",
    "    def banr(a, b, c, reg):\n",
    "        reg[c]=reg[a]&reg[b]\n",
    "    \n",
    "    @staticmethod\n",
    "    def bani(a, b, c, reg):\n",
    "        reg[c]=reg[a]&b\n",
    "        \n",
    "    # bitwise or\n",
    "    @staticmethod\n",
    "    def borr(a, b, c, reg):\n",
    "        reg[c]=reg[a]|reg[b]\n",
    "    \n",
    "    @staticmethod\n",
    "    def bori(a, b, c, reg):\n",
    "        reg[c]=reg[a]|b\n",
    "        \n",
    "    # assign\n",
    "    @staticmethod\n",
    "    def setr(a, b, c, reg):\n",
    "        reg[c]=reg[a]\n",
    "    \n",
    "    @staticmethod\n",
    "    def seti(a, b, c, reg):\n",
    "        reg[c]=a\n",
    "        \n",
    "    # greater than\n",
    "    @staticmethod\n",
    "    def gtir(a, b, c, reg):\n",
    "        if a > reg[b]:\n",
    "            reg[c]=1  \n",
    "        else: \n",
    "            reg[c]=0\n",
    "    \n",
    "    @staticmethod\n",
    "    def gtri(a, b, c, reg):\n",
    "        if reg[a] > b: \n",
    "            reg[c]=1 \n",
    "        else: \n",
    "            reg[c]=0\n",
    "    \n",
    "    @staticmethod\n",
    "    def gtrr(a, b, c, reg):\n",
    "        if reg[a] > reg[b]:\n",
    "            reg[c]=1 \n",
    "        else:\n",
    "            reg[c]=0\n",
    "        \n",
    "    # equal\n",
    "    @staticmethod\n",
    "    def eqir(a, b, c, reg):\n",
    "        if a == reg[b]:\n",
    "            reg[c]=1 \n",
    "        else: \n",
    "            reg[c]=0\n",
    "    \n",
    "    @staticmethod\n",
    "    def eqri(a, b, c, reg):\n",
    "        if reg[a] == b:\n",
    "            reg[c]=1 \n",
    "        else:\n",
    "            reg[c]=0\n",
    "    \n",
    "    @staticmethod\n",
    "    def eqrr(a, b, c, reg):\n",
    "        if reg[a] == reg[b]:\n",
    "            reg[c]=1 \n",
    "        else:\n",
    "            reg[c]=0"
   ]
  },
  {
   "cell_type": "code",
   "execution_count": 88,
   "metadata": {},
   "outputs": [],
   "source": [
    "op_codes = [\n",
    "    OpCodes.addr,\n",
    "    OpCodes.addi,\n",
    "    OpCodes.mulr,\n",
    "    OpCodes.muli,\n",
    "    OpCodes.banr,\n",
    "    OpCodes.bani,\n",
    "    OpCodes.borr,\n",
    "    OpCodes.bori,\n",
    "    OpCodes.setr,\n",
    "    OpCodes.seti,\n",
    "    OpCodes.gtir,\n",
    "    OpCodes.gtri,\n",
    "    OpCodes.gtrr,\n",
    "    OpCodes.eqir,\n",
    "    OpCodes.eqri,\n",
    "    OpCodes.eqrr,\n",
    "]"
   ]
  },
  {
   "cell_type": "code",
   "execution_count": 31,
   "metadata": {},
   "outputs": [],
   "source": [
    "# instruction opcode, A, B, C (A, B, C = index of registers)\n",
    "BEFORE_PATTERN = re.compile(r'Before: \\[(.+)\\]')\n",
    "AFTER_PATTERN  = re.compile(r'After:  \\[(.+)\\]')"
   ]
  },
  {
   "cell_type": "code",
   "execution_count": 47,
   "metadata": {},
   "outputs": [],
   "source": [
    "def get_transitions(filepath):\n",
    "    with open(filepath) as file:\n",
    "        transitions = []\n",
    "        lines = list(file.readlines())\n",
    "        for i in range(0, len(lines), 4):\n",
    "            before_match = BEFORE_PATTERN.findall(lines[i])\n",
    "            if not before_match:\n",
    "                break\n",
    "            before = [int(n) for n in before_match[0].split(', ')]\n",
    "            instruction = [int(n) for n in lines[i+1].split(' ')]\n",
    "            after = [int(n) for n in AFTER_PATTERN.findall(lines[i+2])[0].split(', ')]\n",
    "            transitions.append((before, instruction, after))\n",
    "    return transitions"
   ]
  },
  {
   "cell_type": "code",
   "execution_count": 89,
   "metadata": {},
   "outputs": [],
   "source": [
    "opcode_transitions_filepath = 'data/day16_opcodes.txt'\n",
    "program_filepath = 'data/day16_program.txt'\n",
    "transitions = get_transitions(opcode_transitions_filepath)"
   ]
  },
  {
   "cell_type": "code",
   "execution_count": 90,
   "metadata": {},
   "outputs": [],
   "source": [
    "total_greater = 0\n",
    "for before, op_code, after in transitions:\n",
    "    total_op_codes = 0\n",
    "    for op in op_codes:\n",
    "        before_copy = [i for i in before]\n",
    "        op(*op_code[1:], before_copy)\n",
    "        if before_copy == after:\n",
    "            total_op_codes += 1\n",
    "    if total_op_codes >= 3:\n",
    "        total_greater += 1"
   ]
  },
  {
   "cell_type": "code",
   "execution_count": 91,
   "metadata": {},
   "outputs": [
    {
     "name": "stdout",
     "output_type": "stream",
     "text": [
      "651\n"
     ]
    }
   ],
   "source": [
    "print(total_greater)"
   ]
  },
  {
   "cell_type": "code",
   "execution_count": 92,
   "metadata": {},
   "outputs": [],
   "source": [
    "op_code_numbers = {}\n",
    "for before, op_code, after in transitions:\n",
    "    op_number = op_code[0]\n",
    "    op_code_numbers.setdefault(op_number, [i for i in op_codes])\n",
    "    remove_ops = []\n",
    "    for op in op_code_numbers[op_number]:\n",
    "        if op not in op_code_numbers[op_number]:\n",
    "            continue\n",
    "        before_copy = [i for i in before]\n",
    "        op(*op_code[1:], before_copy)\n",
    "        if before_copy != after:\n",
    "            remove_ops.append(op)\n",
    "    for op in remove_ops:\n",
    "        op_code_numbers[op_number].remove(op)"
   ]
  },
  {
   "cell_type": "code",
   "execution_count": 93,
   "metadata": {},
   "outputs": [],
   "source": [
    "total_op_codes = 16\n",
    "assigned_op_codes = []\n",
    "assigned_op_code_numbers = {}\n",
    "while len(assigned_op_codes) < total_op_codes-1:\n",
    "    for op_number, op_codes in op_code_numbers.items():\n",
    "        for assigned_op_code in assigned_op_codes:\n",
    "            if assigned_op_code in op_codes:\n",
    "                op_codes.remove(assigned_op_code)\n",
    "        # elimination successful\n",
    "        if len(op_codes) == 1:\n",
    "            assigned_op_codes.append(op_codes[0])\n",
    "            assigned_op_code_numbers[op_number] = op_codes[0]"
   ]
  },
  {
   "cell_type": "code",
   "execution_count": 94,
   "metadata": {},
   "outputs": [
    {
     "data": {
      "text/plain": [
       "{0: <function __main__.OpCodes.bori(a, b, c, reg)>,\n",
       " 1: <function __main__.OpCodes.muli(a, b, c, reg)>,\n",
       " 2: <function __main__.OpCodes.banr(a, b, c, reg)>,\n",
       " 3: <function __main__.OpCodes.bani(a, b, c, reg)>,\n",
       " 4: <function __main__.OpCodes.gtir(a, b, c, reg)>,\n",
       " 5: <function __main__.OpCodes.setr(a, b, c, reg)>,\n",
       " 6: <function __main__.OpCodes.addr(a, b, c, reg)>,\n",
       " 7: <function __main__.OpCodes.eqir(a, b, c, reg)>,\n",
       " 8: <function __main__.OpCodes.seti(a, b, c, reg)>,\n",
       " 9: <function __main__.OpCodes.addi(a, b, c, reg)>,\n",
       " 10: <function __main__.OpCodes.eqrr(a, b, c, reg)>,\n",
       " 11: <function __main__.OpCodes.eqri(a, b, c, reg)>,\n",
       " 12: <function __main__.OpCodes.borr(a, b, c, reg)>,\n",
       " 13: <function __main__.OpCodes.gtrr(a, b, c, reg)>,\n",
       " 14: <function __main__.OpCodes.mulr(a, b, c, reg)>,\n",
       " 15: <function __main__.OpCodes.gtri(a, b, c, reg)>}"
      ]
     },
     "execution_count": 94,
     "metadata": {},
     "output_type": "execute_result"
    }
   ],
   "source": [
    "assigned_op_code_numbers"
   ]
  },
  {
   "cell_type": "code",
   "execution_count": 95,
   "metadata": {},
   "outputs": [],
   "source": [
    "def get_program(filepath):\n",
    "    with open(filepath) as file:\n",
    "        for line in file.readlines():\n",
    "            yield [int(n) for n in line.split(' ')]"
   ]
  },
  {
   "cell_type": "code",
   "execution_count": 99,
   "metadata": {},
   "outputs": [],
   "source": [
    "program = list(get_program(program_filepath))"
   ]
  },
  {
   "cell_type": "code",
   "execution_count": 101,
   "metadata": {},
   "outputs": [],
   "source": [
    "registers = [0, 0, 0, 0]\n",
    "for op_codes in program:\n",
    "    op_number = op_codes[0]\n",
    "    assigned_op_code_numbers[op_number](*op_codes[1:], registers)"
   ]
  },
  {
   "cell_type": "code",
   "execution_count": 102,
   "metadata": {},
   "outputs": [
    {
     "name": "stdout",
     "output_type": "stream",
     "text": [
      "[706, 0, 4, 706]\n"
     ]
    }
   ],
   "source": [
    "print(registers)"
   ]
  }
 ],
 "metadata": {
  "kernelspec": {
   "display_name": "Python 3",
   "language": "python",
   "name": "python3"
  },
  "language_info": {
   "codemirror_mode": {
    "name": "ipython",
    "version": 3
   },
   "file_extension": ".py",
   "mimetype": "text/x-python",
   "name": "python",
   "nbconvert_exporter": "python",
   "pygments_lexer": "ipython3",
   "version": "3.5.6"
  }
 },
 "nbformat": 4,
 "nbformat_minor": 2
}
