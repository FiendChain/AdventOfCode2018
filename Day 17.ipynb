{
 "cells": [
  {
   "cell_type": "code",
   "execution_count": 2,
   "metadata": {},
   "outputs": [],
   "source": [
    "import re\n",
    "import math"
   ]
  },
  {
   "cell_type": "code",
   "execution_count": 4,
   "metadata": {},
   "outputs": [],
   "source": [
    "RANGE_PATTERN = re.compile(r'(\\d+)\\.+(\\d+)')\n",
    "XY_COORD_PATTERN_STR = r'([xy])=([\\d\\.]+)'\n",
    "COORD_PATTERN_STR = r'{0}, {0}'.format(XY_COORD_PATTERN_STR)\n",
    "COORD_PATTERN = re.compile(COORD_PATTERN_STR)"
   ]
  },
  {
   "cell_type": "code",
   "execution_count": 5,
   "metadata": {},
   "outputs": [
    {
     "data": {
      "text/plain": [
       "[('x', '452', 'y', '1077..1087')]"
      ]
     },
     "execution_count": 5,
     "metadata": {},
     "output_type": "execute_result"
    }
   ],
   "source": [
    "COORD_PATTERN.findall('x=452, y=1077..1087')"
   ]
  },
  {
   "cell_type": "code",
   "execution_count": 11,
   "metadata": {},
   "outputs": [],
   "source": [
    "def read_range(coord):\n",
    "    matches = RANGE_PATTERN.findall(coord)\n",
    "    if not matches:\n",
    "        return range(int(coord), int(coord)+1)\n",
    "    match = matches[0]\n",
    "    return range(int(match[0]), int(match[1])+1)\n",
    "\n",
    "def read_coordinates_from_file(filepath):\n",
    "    coordinates = []\n",
    "    with open(filepath) as file:\n",
    "        for i, line in enumerate(file.readlines()):\n",
    "            matches = COORD_PATTERN.findall(line)\n",
    "            if not matches:\n",
    "                raise ValueError('Couldnt parse line #{}: {}'.format(i, line))\n",
    "            match = matches[0]\n",
    "            if match[0] == 'x':\n",
    "                x, y = match[1], match[3]\n",
    "            else:\n",
    "                x, y = match[3], match[1]\n",
    "            x_range, y_range = read_range(x), read_range(y)\n",
    "            coordinates.append((x_range, y_range))\n",
    "    return coordinates"
   ]
  },
  {
   "cell_type": "code",
   "execution_count": 32,
   "metadata": {},
   "outputs": [],
   "source": [
    "def read_grid_from_file(filepath):\n",
    "    coords = read_coordinates_from_file(filepath)\n",
    "    x_min, x_max = math.inf, -math.inf\n",
    "    y_min, y_max = math.inf, -math.inf\n",
    "    # get size of grid\n",
    "    for x_range, y_range in coords:\n",
    "        for x in x_range:\n",
    "            for y in y_range:\n",
    "                if x < x_min:\n",
    "                    x_min = x\n",
    "                if x > x_max:\n",
    "                    x_max = x\n",
    "                if y < y_min:\n",
    "                    y_min = y\n",
    "                if y > y_max:\n",
    "                    y_max = y\n",
    "    # create grid\n",
    "    width = (x_max-x_min+1)+2 # add one buffer to each side\n",
    "    x_min -= 1 # move min over one to account for padding\n",
    "    height = y_max-y_min+1\n",
    "    grid = [['.' for _ in range(width)] for _ in range(height)]\n",
    "    for x_range, y_range in coords:\n",
    "        for x in x_range:\n",
    "            for y in y_range:\n",
    "                grid[y-y_min][x-x_min] = '#'\n",
    "    return (grid, (x_min, y_min))"
   ]
  },
  {
   "cell_type": "code",
   "execution_count": 79,
   "metadata": {},
   "outputs": [],
   "source": [
    "def read_raw_grid_from_file(filepath):\n",
    "    grid = []\n",
    "    with open(filepath) as file:\n",
    "        for line in file.readlines():\n",
    "            line = line.replace('\\n', '')\n",
    "            grid.append(line)\n",
    "    return (grid, (0, 0))"
   ]
  },
  {
   "cell_type": "code",
   "execution_count": 28,
   "metadata": {},
   "outputs": [],
   "source": [
    "def write_grid_to_file(filepath, grid):\n",
    "    with open(filepath, 'w') as file:\n",
    "        for row in grid:\n",
    "            file.write(''.join(row)+'\\n')"
   ]
  },
  {
   "cell_type": "code",
   "execution_count": 55,
   "metadata": {},
   "outputs": [],
   "source": [
    "def grid_to_string(grid):\n",
    "    return '\\n'.join(''.join(row) for row in grid)"
   ]
  },
  {
   "cell_type": "code",
   "execution_count": 160,
   "metadata": {},
   "outputs": [],
   "source": [
    "def fill_grid(grid, offset, source):\n",
    "    grid = [[i for i in row] for row in grid] # copy grid\n",
    "    width, height = len(grid[0]), len(grid)\n",
    "    x_off, y_off = offset\n",
    "    x_src, y_src = source[0]-x_off, source[1]-y_off\n",
    "    # move source down\n",
    "    if y_src < 0:\n",
    "        y_src = 0\n",
    "    # start filling\n",
    "    grid[y_src][x_src] = '+'\n",
    "    def recursive_fill(x, y):\n",
    "        # if out of bounds, ignore\n",
    "        if y >= height:\n",
    "            return\n",
    "        # at current source, keep filling until spilling\n",
    "        y_initial = y\n",
    "        while y < height-1 and y >= y_initial:\n",
    "            cell = grid[y+1][x]\n",
    "            # if falling through empty air\n",
    "            if cell == '.':\n",
    "                grid[y+1][x] = '|'\n",
    "                y += 1\n",
    "            # if hitting a base or pool of water\n",
    "            # fill the current level\n",
    "            elif cell == '#' or cell == '~':\n",
    "                grid[y][x] = '~'\n",
    "                left_spill, right_spill = None, None\n",
    "                left_wall, right_wall = None, None\n",
    "                left_x, right_x = x, x\n",
    "                # search left for spill or wall\n",
    "                while True:\n",
    "                    # check if spilling\n",
    "                    below_cell = grid[y+1][left_x]\n",
    "                    if below_cell == '.':\n",
    "                        left_spill = left_x\n",
    "                        break\n",
    "                    # check for walls\n",
    "                    left_cell = grid[y][left_x-1]\n",
    "                    if left_cell == '#':\n",
    "                        left_wall = left_x-1\n",
    "                        break\n",
    "                    left_x -= 1\n",
    "                # search right for spill or wall\n",
    "                while True:\n",
    "                    # check if spilling\n",
    "                    below_cell = grid[y+1][right_x]\n",
    "                    if below_cell == '.':\n",
    "                        right_spill = right_x\n",
    "                        break\n",
    "                    # check for walls\n",
    "                    right_cell = grid[y][right_x+1]\n",
    "                    if right_cell == '#':\n",
    "                        right_wall = right_x+1\n",
    "                        break\n",
    "                    right_x += 1\n",
    "                # if enclosed, fill\n",
    "                if left_wall is not None and right_wall is not None:\n",
    "                    for wall_x in range(left_wall+1, right_wall):\n",
    "                        grid[y][wall_x] = '~'\n",
    "                    y -= 1\n",
    "                # if spilt on either side\n",
    "                else:\n",
    "                    left_x = left_wall+1 if left_wall else left_spill\n",
    "                    right_x = right_wall if right_wall else right_spill+1\n",
    "                    for spill_x in range(left_x, right_x):\n",
    "                        grid[y][spill_x] = '|'\n",
    "                    if left_spill is not None:\n",
    "                        recursive_fill(left_spill, y)\n",
    "                    if right_spill is not None:\n",
    "                        recursive_fill(right_spill, y)\n",
    "                    y -= 1\n",
    "            # if nothing go back up\n",
    "            else:\n",
    "                y -= 1\n",
    "    recursive_fill(x_src, y_src)\n",
    "    return (grid, offset)"
   ]
  },
  {
   "cell_type": "code",
   "execution_count": 163,
   "metadata": {},
   "outputs": [],
   "source": [
    "def count_total_filled(grid, tiles='+|~'):\n",
    "    total_filled = 0\n",
    "    for row in grid:\n",
    "        for char in row:\n",
    "            if char in tiles:\n",
    "                total_filled += 1\n",
    "    return total_filled"
   ]
  },
  {
   "cell_type": "code",
   "execution_count": 156,
   "metadata": {},
   "outputs": [],
   "source": [
    "filepath = 'data/day17.txt'\n",
    "#filepath = 'data/day17_mini.txt'\n",
    "grid, (x_off, y_off) = read_grid_from_file(filepath)\n",
    "# raw_filepath = 'data/day17_test_grid.txt'\n",
    "# grid, (x_off, y_off) = read_raw_grid_from_file(raw_filepath)\n",
    "width, height = len(grid[0]), len(grid)"
   ]
  },
  {
   "cell_type": "code",
   "execution_count": 157,
   "metadata": {},
   "outputs": [],
   "source": [
    "write_grid_to_file('data/day17_grid.txt', grid)"
   ]
  },
  {
   "cell_type": "code",
   "execution_count": 158,
   "metadata": {},
   "outputs": [],
   "source": [
    "filled_grid, (x_off, y_off) = fill_grid(grid, (x_off, y_off), (500, 0))"
   ]
  },
  {
   "cell_type": "code",
   "execution_count": 159,
   "metadata": {},
   "outputs": [],
   "source": [
    "write_grid_to_file('data/day17_filled_grid.txt', filled_grid)"
   ]
  },
  {
   "cell_type": "code",
   "execution_count": 165,
   "metadata": {},
   "outputs": [
    {
     "name": "stdout",
     "output_type": "stream",
     "text": [
      "Total filled: 32552\n"
     ]
    }
   ],
   "source": [
    "total_tiles_filled = count_total_filled(filled_grid)\n",
    "print('Total filled: {}'.format(total_tiles_filled))"
   ]
  },
  {
   "cell_type": "code",
   "execution_count": 166,
   "metadata": {},
   "outputs": [
    {
     "name": "stdout",
     "output_type": "stream",
     "text": [
      "Total static: 26405\n"
     ]
    }
   ],
   "source": [
    "total_static = count_total_filled(filled_grid, tiles='~')\n",
    "print('Total static: {}'.format(total_static))"
   ]
  }
 ],
 "metadata": {
  "kernelspec": {
   "display_name": "Python 3",
   "language": "python",
   "name": "python3"
  },
  "language_info": {
   "codemirror_mode": {
    "name": "ipython",
    "version": 3
   },
   "file_extension": ".py",
   "mimetype": "text/x-python",
   "name": "python",
   "nbconvert_exporter": "python",
   "pygments_lexer": "ipython3",
   "version": "3.5.6"
  }
 },
 "nbformat": 4,
 "nbformat_minor": 2
}
