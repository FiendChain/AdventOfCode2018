{
 "cells": [
  {
   "cell_type": "code",
   "execution_count": 1,
   "metadata": {},
   "outputs": [],
   "source": [
    "def get_ids(filepath):\n",
    "    with open(filepath) as file:\n",
    "        for _id in file.readlines():\n",
    "            yield _id"
   ]
  },
  {
   "cell_type": "code",
   "execution_count": 2,
   "metadata": {},
   "outputs": [],
   "source": [
    "filepath = 'data/day2.txt'"
   ]
  },
  {
   "cell_type": "code",
   "execution_count": 5,
   "metadata": {},
   "outputs": [],
   "source": [
    "lines = list(get_ids(filepath))"
   ]
  },
  {
   "cell_type": "code",
   "execution_count": 7,
   "metadata": {},
   "outputs": [],
   "source": [
    "repeat_counter = {2:0, 3:0}\n",
    "for line in lines:\n",
    "    repeats = {}\n",
    "    for c in set(line):\n",
    "        count = line.count(c)\n",
    "        if count not in repeats:\n",
    "            repeats[count] = 0\n",
    "        repeats[count] += 1\n",
    "    for total_repeats, count in repeats.items():\n",
    "        if total_repeats not in repeat_counter:\n",
    "            repeat_counter[total_repeats] = 0\n",
    "        repeat_counter[total_repeats] += 1    "
   ]
  },
  {
   "cell_type": "code",
   "execution_count": 8,
   "metadata": {},
   "outputs": [
    {
     "name": "stdout",
     "output_type": "stream",
     "text": [
      "4712\n"
     ]
    }
   ],
   "source": [
    "checksum = repeat_counter[2] * repeat_counter[3]\n",
    "print(checksum)"
   ]
  },
  {
   "cell_type": "code",
   "execution_count": 11,
   "metadata": {},
   "outputs": [],
   "source": [
    "def get_delta(a, b):\n",
    "    diff = []\n",
    "    same = []\n",
    "    for a_char, b_char in zip(a, b):\n",
    "        if a_char != b_char:\n",
    "            diff.append((a_char, b_char))\n",
    "        else:\n",
    "            same.append(a_char)\n",
    "    return (diff, same)\n",
    "\n",
    "def get_prototype():\n",
    "    for a in lines:\n",
    "        for b in lines:\n",
    "            if a is not b:\n",
    "                diff, same = get_delta(a, b)\n",
    "                if len(diff) == 1:\n",
    "                    return (a, b, diff, same)\n",
    "    return (None, None, None, None)\n",
    "\n",
    "a, b, diff, same = get_prototype()"
   ]
  },
  {
   "cell_type": "code",
   "execution_count": 17,
   "metadata": {},
   "outputs": [
    {
     "name": "stdout",
     "output_type": "stream",
     "text": [
      "lufjygedpvfbhftxiwnaorzmq\n"
     ]
    }
   ],
   "source": [
    "shared_chars = ''.join(same).replace('\\n', '')\n",
    "print(shared_chars)"
   ]
  }
 ],
 "metadata": {
  "kernelspec": {
   "display_name": "Python 3",
   "language": "python",
   "name": "python3"
  },
  "language_info": {
   "codemirror_mode": {
    "name": "ipython",
    "version": 3
   },
   "file_extension": ".py",
   "mimetype": "text/x-python",
   "name": "python",
   "nbconvert_exporter": "python",
   "pygments_lexer": "ipython3",
   "version": "3.5.6"
  }
 },
 "nbformat": 4,
 "nbformat_minor": 2
}
