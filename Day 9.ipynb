{
 "cells": [
  {
   "cell_type": "code",
   "execution_count": 58,
   "metadata": {},
   "outputs": [],
   "source": [
    "class Marble:\n",
    "    def __init__(self, value):\n",
    "        self.value = value\n",
    "        self.next = None\n",
    "        self.prev = None\n",
    "\n",
    "class Game:\n",
    "    def __init__(self):\n",
    "        self.head_marble = None\n",
    "        self.curr_marble = None\n",
    "    \n",
    "    def insert(self, value):\n",
    "        marble = Marble(value)\n",
    "        # first value\n",
    "        if self.head_marble is None:\n",
    "            self.head_marble = marble\n",
    "            self.curr_marble = marble\n",
    "            return 0\n",
    "        # second value\n",
    "        if self.curr_marble.next is None:\n",
    "            self.curr_marble.next = marble\n",
    "            self.curr_marble.prev = marble\n",
    "            marble.next = self.curr_marble\n",
    "            marble.prev = self.curr_marble\n",
    "            self.curr_marble = marble\n",
    "            return 0\n",
    "        # insert n23th marble\n",
    "        if value % 23 == 0:\n",
    "            for _ in range(7):\n",
    "                self.curr_marble = self.curr_marble.prev\n",
    "            score = value\n",
    "            # detach current marble\n",
    "            prev_marble = self.curr_marble.prev\n",
    "            next_marble = self.curr_marble.next\n",
    "            prev_marble.next = next_marble\n",
    "            next_marble.prev = prev_marble\n",
    "            # add score and move to next marble\n",
    "            score += self.curr_marble.value\n",
    "            self.curr_marble = next_marble\n",
    "            return score\n",
    "        # insert marble after the next\n",
    "        self.curr_marble = self.curr_marble.next\n",
    "        next_marble = self.curr_marble.next\n",
    "        prev_marble = self.curr_marble\n",
    "        # connect into list\n",
    "        prev_marble.next = marble\n",
    "        marble.prev = prev_marble\n",
    "        marble.next = next_marble\n",
    "        next_marble.prev = marble\n",
    "        # set as current\n",
    "        self.curr_marble = marble\n",
    "        return 0\n",
    "    \n",
    "    def __str__(self):\n",
    "        string = []\n",
    "        curr_marble = self.head_marble\n",
    "        while curr_marble:\n",
    "            if curr_marble is self.curr_marble:\n",
    "                string.append('({})'.format(curr_marble.value))\n",
    "            else:\n",
    "                string.append(str(curr_marble.value))\n",
    "            curr_marble = curr_marble.next\n",
    "        return ' '.join(string)"
   ]
  },
  {
   "cell_type": "code",
   "execution_count": 59,
   "metadata": {},
   "outputs": [],
   "source": [
    "def run_game(total_players, total_marbles):\n",
    "    game = Game()\n",
    "    game.insert(0)\n",
    "    players = [0]*total_players\n",
    "    for i in range(1, total_marbles+1):\n",
    "        curr_player = (i-1)%len(players)\n",
    "        score = game.insert(i)\n",
    "        players[curr_player] += score\n",
    "    return (game, players)"
   ]
  },
  {
   "cell_type": "code",
   "execution_count": 60,
   "metadata": {},
   "outputs": [
    {
     "name": "stdout",
     "output_type": "stream",
     "text": [
      "Player #370: 429287\n"
     ]
    }
   ],
   "source": [
    "game, players = run_game(410, 72059)\n",
    "player, score = max(enumerate(players), key=lambda x: x[1])\n",
    "print('Player #{}: {}'.format(player+1, score))"
   ]
  },
  {
   "cell_type": "code",
   "execution_count": 61,
   "metadata": {},
   "outputs": [
    {
     "name": "stdout",
     "output_type": "stream",
     "text": [
      "Player #215: 3624387659\n"
     ]
    }
   ],
   "source": [
    "game, players = run_game(410, 72059*100)\n",
    "player, score = max(enumerate(players), key=lambda x: x[1])\n",
    "print('Player #{}: {}'.format(player+1, score))"
   ]
  }
 ],
 "metadata": {
  "kernelspec": {
   "display_name": "Python 3",
   "language": "python",
   "name": "python3"
  },
  "language_info": {
   "codemirror_mode": {
    "name": "ipython",
    "version": 3
   },
   "file_extension": ".py",
   "mimetype": "text/x-python",
   "name": "python",
   "nbconvert_exporter": "python",
   "pygments_lexer": "ipython3",
   "version": "3.5.6"
  }
 },
 "nbformat": 4,
 "nbformat_minor": 2
}
