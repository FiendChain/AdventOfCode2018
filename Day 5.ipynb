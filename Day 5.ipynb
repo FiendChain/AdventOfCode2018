{
 "cells": [
  {
   "cell_type": "code",
   "execution_count": 2,
   "metadata": {},
   "outputs": [],
   "source": [
    "filepath = 'data/day5.txt'"
   ]
  },
  {
   "cell_type": "code",
   "execution_count": 7,
   "metadata": {},
   "outputs": [],
   "source": [
    "def get_polymer(filepath):\n",
    "    with open(filepath) as file:\n",
    "        polymer = file.read()\n",
    "    polymer = polymer.replace('\\n', '')\n",
    "    return polymer"
   ]
  },
  {
   "cell_type": "code",
   "execution_count": 13,
   "metadata": {},
   "outputs": [],
   "source": [
    "original_polymer = get_polymer(filepath)"
   ]
  },
  {
   "cell_type": "code",
   "execution_count": 24,
   "metadata": {},
   "outputs": [],
   "source": [
    "def check_if_react(char_a, char_b):\n",
    "    if not char_a.lower() == char_b.lower():\n",
    "        return False\n",
    "    if char_a.islower() and char_b.islower():\n",
    "        return False\n",
    "    if char_a.isupper() and char_b.isupper():\n",
    "        return False\n",
    "    return True"
   ]
  },
  {
   "cell_type": "code",
   "execution_count": 34,
   "metadata": {},
   "outputs": [],
   "source": [
    "def react_polymer(polymer):\n",
    "    index = 0\n",
    "    while index < len(polymer)-1:\n",
    "        no_reaction = False\n",
    "        while not no_reaction and index < len(polymer)-1:\n",
    "            prev_char = polymer[index]\n",
    "            next_char = polymer[index+1]\n",
    "            # reaction found\n",
    "            if check_if_react(prev_char, next_char):\n",
    "                if index+2 < len(polymer):\n",
    "                    polymer = polymer[:index]+polymer[index+2:]\n",
    "                else:\n",
    "                    polymer = polymer[:index]\n",
    "                if index > 0:\n",
    "                    index -= 1\n",
    "            else:\n",
    "                no_reaction = True\n",
    "        index += 1\n",
    "    return polymer"
   ]
  },
  {
   "cell_type": "code",
   "execution_count": 35,
   "metadata": {},
   "outputs": [],
   "source": [
    "def check_if_reactable(polymer):\n",
    "    for index in range(len(polymer)-1):\n",
    "        prev_char = polymer[index]\n",
    "        next_char = polymer[index+1]\n",
    "        if check_if_react(prev_char, next_char):\n",
    "            return True\n",
    "    return False"
   ]
  },
  {
   "cell_type": "code",
   "execution_count": 36,
   "metadata": {},
   "outputs": [
    {
     "data": {
      "text/plain": [
       "'dabCBAcaDA'"
      ]
     },
     "execution_count": 36,
     "metadata": {},
     "output_type": "execute_result"
    }
   ],
   "source": [
    "react_polymer('dabAcCaCBAcCcaDA')"
   ]
  },
  {
   "cell_type": "code",
   "execution_count": 37,
   "metadata": {},
   "outputs": [
    {
     "name": "stdout",
     "output_type": "stream",
     "text": [
      "False\n"
     ]
    }
   ],
   "source": [
    "reacted_polymer = react_polymer(original_polymer)\n",
    "print(check_if_reactable(reacted_polymer))"
   ]
  },
  {
   "cell_type": "code",
   "execution_count": 38,
   "metadata": {},
   "outputs": [
    {
     "name": "stdout",
     "output_type": "stream",
     "text": [
      "50000\n",
      "9370\n"
     ]
    }
   ],
   "source": [
    "print(len(original_polymer))\n",
    "print(len(reacted_polymer))"
   ]
  },
  {
   "cell_type": "code",
   "execution_count": 41,
   "metadata": {},
   "outputs": [],
   "source": [
    "# remove a-z and get reacted\n",
    "all_sub_reactions = []\n",
    "for char in set(original_polymer.lower()):\n",
    "    sub_polymer = original_polymer.replace(char, '').replace(char.upper(), '')\n",
    "    reacted_sub_polymer = react_polymer(sub_polymer)\n",
    "    all_sub_reactions.append((char, sub_polymer, reacted_sub_polymer))"
   ]
  },
  {
   "cell_type": "code",
   "execution_count": 49,
   "metadata": {},
   "outputs": [
    {
     "name": "stdout",
     "output_type": "stream",
     "text": [
      "6390\n"
     ]
    }
   ],
   "source": [
    "result = min(all_sub_reactions, key=lambda x: len(x[2]))\n",
    "removed_char, sub_polymer, reacted_sub_polymer = result\n",
    "print(len(reacted_sub_polymer))"
   ]
  }
 ],
 "metadata": {
  "kernelspec": {
   "display_name": "Python 3",
   "language": "python",
   "name": "python3"
  },
  "language_info": {
   "codemirror_mode": {
    "name": "ipython",
    "version": 3
   },
   "file_extension": ".py",
   "mimetype": "text/x-python",
   "name": "python",
   "nbconvert_exporter": "python",
   "pygments_lexer": "ipython3",
   "version": "3.5.6"
  }
 },
 "nbformat": 4,
 "nbformat_minor": 2
}
