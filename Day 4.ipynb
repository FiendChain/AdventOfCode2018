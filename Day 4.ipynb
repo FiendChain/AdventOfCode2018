{
 "cells": [
  {
   "cell_type": "code",
   "execution_count": 55,
   "metadata": {},
   "outputs": [],
   "source": [
    "import re\n",
    "import datetime\n",
    "from enum import Enum"
   ]
  },
  {
   "cell_type": "code",
   "execution_count": 70,
   "metadata": {},
   "outputs": [],
   "source": [
    "ENTRY_PATTERN = re.compile(r'\\[(?P<time>.+)\\] (?P<action>.+)')\n",
    "BEGIN_PATTERN = re.compile(r'Guard #(?P<id>\\d+) begins shift')\n",
    "DATE_PATTERN = '%Y-%m-%d %H-%M'\n",
    "\n",
    "class Action(Enum):\n",
    "    START = 0\n",
    "    END   = 1\n",
    "    WAKE  = 2\n",
    "    SLEEP = 3"
   ]
  },
  {
   "cell_type": "code",
   "execution_count": 71,
   "metadata": {},
   "outputs": [],
   "source": [
    "def read_guard_history(filepath, pattern=ENTRY_PATTERN):\n",
    "    with open(filepath) as file:\n",
    "        for line in file.readlines():\n",
    "            matches = pattern.match(line)\n",
    "            if not matches:\n",
    "                print(line)\n",
    "                raise ValueError('Didnt find regex match')\n",
    "            matches = matches.groupdict()\n",
    "            date_str = matches['time']\n",
    "            date = datetime.datetime.strptime(date_str, DATE_PATTERN)\n",
    "            action = matches['action']\n",
    "            yield (date, action)"
   ]
  },
  {
   "cell_type": "code",
   "execution_count": 50,
   "metadata": {},
   "outputs": [],
   "source": [
    "filepath = 'data/day4.txt'"
   ]
  },
  {
   "cell_type": "code",
   "execution_count": 61,
   "metadata": {},
   "outputs": [],
   "source": [
    "guard_history = list(read_guard_history(filepath))"
   ]
  },
  {
   "cell_type": "code",
   "execution_count": 74,
   "metadata": {},
   "outputs": [],
   "source": [
    "def process_guard_history(guard_history):\n",
    "    guard_history = sorted(guard_history, key=lambda x: x[0])\n",
    "    guards = {}\n",
    "    current_guard_id = None\n",
    "    for entry in guard_history:\n",
    "        date, action = entry\n",
    "        # start shift/end shift\n",
    "        match = BEGIN_PATTERN.match(action)\n",
    "        if match:\n",
    "            match = match.groupdict()\n",
    "            if current_guard_id:\n",
    "                guards[current_guard_id].append((date, Action.END))\n",
    "            current_guard_id = int(match['id'])\n",
    "            if current_guard_id not in guards:\n",
    "                guards[current_guard_id] = [(date, Action.START)]\n",
    "            continue\n",
    "        # if guard id hasnt been set with non shift start\n",
    "        if not current_guard_id:\n",
    "            raise ValueError('Guard history doesnt start with guard shift')\n",
    "        if current_guard_id not in guards:\n",
    "            raise ValueError('Guard #{} hasnt started shift'.format(current_guard_id))\n",
    "        # fall asleep\n",
    "        if action == 'falls asleep':\n",
    "            guards[current_guard_id].append((date, Action.SLEEP))\n",
    "        elif action == 'wakes up':\n",
    "            guards[current_guard_id].append((date, Action.WAKE))\n",
    "        else:\n",
    "            raise ValueError('Unknown action: [{}] Guard #{} {}'\\\n",
    "                .format(datr.strfmt(DATE_PATTERN), current_guard_id, action))\n",
    "    return guards"
   ]
  },
  {
   "cell_type": "code",
   "execution_count": 76,
   "metadata": {},
   "outputs": [],
   "source": [
    "guards = process_guard_history(guard_history)"
   ]
  },
  {
   "cell_type": "code",
   "execution_count": 94,
   "metadata": {},
   "outputs": [],
   "source": [
    "def get_total_sleep_times(guards):\n",
    "    sleep_time_minutes = {}\n",
    "    def log_sleep_times_minutes(id, start, end):\n",
    "        delta = end-start\n",
    "        delta_minutes = int(delta.seconds / 60)\n",
    "        for i in range(delta_minutes):\n",
    "            curr_time = start+datetime.timedelta(minutes=i)\n",
    "            curr_minute = curr_time.minute\n",
    "            if curr_minute not in sleep_time_minutes[id]:\n",
    "                sleep_time_minutes[id][curr_minute] = 0\n",
    "            sleep_time_minutes[id][curr_minute] += 1\n",
    "            \n",
    "    sleep_times = {}\n",
    "    def log_sleep_times(id, start, end):\n",
    "        sleep_times[id] += (end-start).seconds / 60\n",
    "        \n",
    "    awake_times = {}\n",
    "    def log_awake_times(id, start, end):\n",
    "        awake_times[id] += (end-start).seconds / 60\n",
    "        \n",
    "    for id, actions in guards.items():\n",
    "        sleep_time_minutes[id] = {}\n",
    "        sleep_times[id] = 0\n",
    "        awake_times[id] = 0\n",
    "        prev_awake = None\n",
    "        prev_sleep = None\n",
    "        for date, action in actions:\n",
    "            # if waking\n",
    "            if action == Action.START or action == Action.WAKE:\n",
    "                prev_awake = date\n",
    "                if prev_sleep:\n",
    "                    log_sleep_times_minutes(id, prev_sleep, date)\n",
    "                    log_sleep_times(id, prev_sleep, date)\n",
    "            # if sleeping\n",
    "            elif action == Action.END or action == Action.SLEEP:\n",
    "                prev_sleep = date\n",
    "                if prev_awake:\n",
    "                    log_sleep_times(id, prev_awake, date)\n",
    "                    \n",
    "    return (sleep_time_minutes, sleep_times, awake_times)"
   ]
  },
  {
   "cell_type": "code",
   "execution_count": 98,
   "metadata": {},
   "outputs": [
    {
     "name": "stdout",
     "output_type": "stream",
     "text": [
      "115167\n"
     ]
    }
   ],
   "source": [
    "sleep_times_minutes, sleep_times, awake_times = get_total_sleep_times(guards)\n",
    "id, total_minutes = max(sleep_times.items(), key=lambda x: x[1])\n",
    "most_sleepy_minute, total_minutes = max(sleep_times_minutes[id].items(), key=lambda x: x[1])\n",
    "checksum = id * most_sleepy_minute\n",
    "print(checksum)"
   ]
  },
  {
   "cell_type": "code",
   "execution_count": 100,
   "metadata": {},
   "outputs": [
    {
     "name": "stdout",
     "output_type": "stream",
     "text": [
      "32070\n"
     ]
    }
   ],
   "source": [
    "# get (id, total_minutes) for each minute\n",
    "# only keep the highest total minutes for each minute\n",
    "most_frequently_slept_minutes = {}\n",
    "for id, minute_sleep in sleep_times_minutes.items():\n",
    "    for minute, total_minutes in minute_sleep.items():\n",
    "        if minute not in most_frequently_slept_minutes:\n",
    "            most_frequently_slept_minutes[minute] = (id, total_minutes)\n",
    "        else:\n",
    "            _, prev_max = most_frequently_slept_minutes[minute]\n",
    "            if total_minutes > prev_max:\n",
    "                most_frequently_slept_minutes[minute] = (id, total_minutes)\n",
    "\n",
    "minute, (id, total_minutes) = max(most_frequently_slept_minutes.items(),\n",
    "                                  key=lambda x: x[1][1])\n",
    "checksum = id * minute\n",
    "print(checksum)"
   ]
  }
 ],
 "metadata": {
  "kernelspec": {
   "display_name": "Python 3",
   "language": "python",
   "name": "python3"
  },
  "language_info": {
   "codemirror_mode": {
    "name": "ipython",
    "version": 3
   },
   "file_extension": ".py",
   "mimetype": "text/x-python",
   "name": "python",
   "nbconvert_exporter": "python",
   "pygments_lexer": "ipython3",
   "version": "3.5.6"
  }
 },
 "nbformat": 4,
 "nbformat_minor": 2
}
