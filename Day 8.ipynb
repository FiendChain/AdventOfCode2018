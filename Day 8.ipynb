{
 "cells": [
  {
   "cell_type": "code",
   "execution_count": 2,
   "metadata": {},
   "outputs": [],
   "source": [
    "import re\n",
    "import math\n",
    "import pprint as pp"
   ]
  },
  {
   "cell_type": "code",
   "execution_count": 13,
   "metadata": {},
   "outputs": [],
   "source": [
    "filepath = 'data/day8.txt'"
   ]
  },
  {
   "cell_type": "code",
   "execution_count": 27,
   "metadata": {},
   "outputs": [],
   "source": [
    "def read_nodes(filepath):\n",
    "    with open(filepath) as file:\n",
    "        data = file.read().split(' ')\n",
    "    numbers = [int(n) for n in data]\n",
    "    # return node and actual ending index of the node\n",
    "    # node = (metadata, children_nodes)\n",
    "    # return: (node, start, end)\n",
    "    def get_node(start, end=None):\n",
    "        try:\n",
    "            total_children = numbers[start]\n",
    "            total_metadata = numbers[start+1]\n",
    "        except IndexError as ex:\n",
    "            raise IndexError('Invalid range: {}...{}'.format(start, end))\n",
    "        # no children\n",
    "        if total_children == 0:\n",
    "            end = (start+2)+total_metadata-1\n",
    "            if end >= len(data):\n",
    "                raise IndexError('Range insufficient for metadata [{}:{}] {}, {}'\n",
    "                                .format(start, end, total_children, total_metadata))\n",
    "            metadata = numbers[(start+2):(start+2)+total_metadata]\n",
    "            return ((metadata, []), start, end)\n",
    "        # for n children, n = 0..*\n",
    "        # get child nodes recursively\n",
    "        metadata = []\n",
    "        child_nodes = []\n",
    "        child_start = start+2\n",
    "        for child_number in range(total_children):\n",
    "            # if last children, fetch metadata and specify end\n",
    "            if child_number == total_children-1:\n",
    "                node, _, child_end = get_node(child_start, end)\n",
    "                end = child_end+total_metadata\n",
    "                metadata = numbers[child_end+1:end+1]\n",
    "                child_nodes.append(node)\n",
    "            # otherwise, \n",
    "            else:\n",
    "                node, _, child_end = get_node(child_start, end)\n",
    "                child_start = child_end+1\n",
    "                child_nodes.append(node)\n",
    "        return ((metadata, child_nodes), start, end)\n",
    "    node, _, _ = get_node(0, len(numbers)-1)\n",
    "    return node"
   ]
  },
  {
   "cell_type": "code",
   "execution_count": 28,
   "metadata": {},
   "outputs": [],
   "source": [
    "nodes = read_nodes(filepath)"
   ]
  },
  {
   "cell_type": "code",
   "execution_count": 30,
   "metadata": {},
   "outputs": [],
   "source": [
    "def get_total_metadata(tree):\n",
    "    total_metadata = 0\n",
    "    metadata, child_nodes = tree\n",
    "    total_metadata += sum(metadata)\n",
    "    for node in child_nodes:\n",
    "        total_metadata += get_total_metadata(node)\n",
    "    return total_metadata"
   ]
  },
  {
   "cell_type": "code",
   "execution_count": 36,
   "metadata": {},
   "outputs": [
    {
     "name": "stdout",
     "output_type": "stream",
     "text": [
      "41760\n"
     ]
    }
   ],
   "source": [
    "total_metadata = get_total_metadata(nodes)\n",
    "print(total_metadata)"
   ]
  },
  {
   "cell_type": "code",
   "execution_count": 42,
   "metadata": {},
   "outputs": [],
   "source": [
    "# different kind of sum\n",
    "# based on the metadata which dictates how many of each of its children\n",
    "# it should sum\n",
    "def get_complex_total_metadata(tree):\n",
    "    total_metadata = 0\n",
    "    metadata, child_nodes = tree\n",
    "    # if no child nodes, get sum of metadata and return\n",
    "    if len(child_nodes) <= 0:\n",
    "        total_metadata = sum(metadata)\n",
    "        return total_metadata\n",
    "    # otherwise iterate through metadata\n",
    "    sum_cache = {}\n",
    "    for child_index in metadata:\n",
    "        child_index -= 1 # uses index system 1..*\n",
    "        # ignore invalid entries\n",
    "        if child_index < 0 or child_index >= len(child_nodes):\n",
    "            continue\n",
    "        child_node = child_nodes[child_index]\n",
    "        # get the sum of the current node, while checking cache\n",
    "        if child_index not in sum_cache:\n",
    "            sum_cache[child_index] = get_complex_total_metadata(child_node)\n",
    "        total_metadata += sum_cache[child_index]\n",
    "    return total_metadata"
   ]
  },
  {
   "cell_type": "code",
   "execution_count": 43,
   "metadata": {},
   "outputs": [
    {
     "name": "stdout",
     "output_type": "stream",
     "text": [
      "25737\n"
     ]
    }
   ],
   "source": [
    "complex_total_metadata = get_complex_total_metadata(nodes)\n",
    "print(complex_total_metadata)"
   ]
  }
 ],
 "metadata": {
  "kernelspec": {
   "display_name": "Python 3",
   "language": "python",
   "name": "python3"
  },
  "language_info": {
   "codemirror_mode": {
    "name": "ipython",
    "version": 3
   },
   "file_extension": ".py",
   "mimetype": "text/x-python",
   "name": "python",
   "nbconvert_exporter": "python",
   "pygments_lexer": "ipython3",
   "version": "3.5.6"
  }
 },
 "nbformat": 4,
 "nbformat_minor": 2
}
