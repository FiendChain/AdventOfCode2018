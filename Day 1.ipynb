{
 "cells": [
  {
   "cell_type": "code",
   "execution_count": 12,
   "metadata": {},
   "outputs": [],
   "source": [
    "def get_deltas(filepath):\n",
    "    with open(filepath) as file:\n",
    "        for line in file.readlines():\n",
    "            delta = int(line)\n",
    "            yield delta"
   ]
  },
  {
   "cell_type": "code",
   "execution_count": 13,
   "metadata": {},
   "outputs": [],
   "source": [
    "filepath = 'data/day1.txt'"
   ]
  },
  {
   "cell_type": "code",
   "execution_count": 28,
   "metadata": {},
   "outputs": [
    {
     "name": "stdout",
     "output_type": "stream",
     "text": [
      "518\n"
     ]
    }
   ],
   "source": [
    "deltas = list(get_deltas(filepath))\n",
    "total = sum(deltas)\n",
    "print(total)"
   ]
  },
  {
   "cell_type": "code",
   "execution_count": 45,
   "metadata": {},
   "outputs": [
    {
     "name": "stdout",
     "output_type": "stream",
     "text": [
      "72889\n"
     ]
    }
   ],
   "source": [
    "f = 0\n",
    "f_cache = {}\n",
    "found_repeat = False\n",
    "while not found_repeat:\n",
    "    for x in deltas:\n",
    "        f += x\n",
    "        if f in f_cache:\n",
    "            print(f)\n",
    "            found_repeat = True\n",
    "            break\n",
    "        f_cache[f] = 0"
   ]
  }
 ],
 "metadata": {
  "kernelspec": {
   "display_name": "Python 3",
   "language": "python",
   "name": "python3"
  },
  "language_info": {
   "codemirror_mode": {
    "name": "ipython",
    "version": 3
   },
   "file_extension": ".py",
   "mimetype": "text/x-python",
   "name": "python",
   "nbconvert_exporter": "python",
   "pygments_lexer": "ipython3",
   "version": "3.5.6"
  }
 },
 "nbformat": 4,
 "nbformat_minor": 2
}
