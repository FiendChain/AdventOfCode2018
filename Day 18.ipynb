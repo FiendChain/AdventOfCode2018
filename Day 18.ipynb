{
 "cells": [
  {
   "cell_type": "code",
   "execution_count": 5,
   "metadata": {},
   "outputs": [],
   "source": [
    "# basically game of life\n",
    "def get_grid(filepath):\n",
    "    with open(filepath, 'r') as file:\n",
    "        grid = [list(row.rstrip()) for row in file.readlines()]\n",
    "    return grid"
   ]
  },
  {
   "cell_type": "code",
   "execution_count": 8,
   "metadata": {},
   "outputs": [],
   "source": [
    "class Item:\n",
    "    # . = open, | = tree, # = lumberyard\n",
    "    OPEN = '.'\n",
    "    TREE = '|'\n",
    "    LUMBERYARD = '#'"
   ]
  },
  {
   "cell_type": "code",
   "execution_count": 69,
   "metadata": {},
   "outputs": [],
   "source": [
    "def get_neighbour_count(grid, x, y):\n",
    "    width, height = len(grid[0]), len(grid)\n",
    "    count = {Item.OPEN: 0, Item.TREE: 0, Item.LUMBERYARD: 0}\n",
    "    for x_off in (-1, 0, 1):\n",
    "        for y_off in (-1, 0, 1):\n",
    "            if x_off == 0 and y_off == 0:\n",
    "                continue\n",
    "            x_coord = x+x_off\n",
    "            y_coord = y+y_off\n",
    "            if x_coord < 0 or x_coord >= width or\\\n",
    "               y_coord < 0 or y_coord >= height:\n",
    "                continue\n",
    "            #print('Adding [{}][{}]:{}'.format(x_coord, y_coord, grid[y_coord][x_coord]))\n",
    "            count[grid[y_coord][x_coord]] += 1\n",
    "    return count\n",
    "\n",
    "def get_next_state(grid, x, y):\n",
    "    char = grid[y][x]\n",
    "    count = get_neighbour_count(grid, x, y)\n",
    "    # if at least 3 trees, open area has trees\n",
    "    if char == Item.OPEN:\n",
    "        if count[Item.TREE] >= 3:\n",
    "            return Item.TREE\n",
    "        return char\n",
    "    # if more or equal to 3 lumberyards, no more trees\n",
    "    elif char == Item.TREE:\n",
    "        if count[Item.LUMBERYARD] >= 3:\n",
    "            return Item.LUMBERYARD\n",
    "        return char\n",
    "    # lumberyard: at least one lumberyard and tree, otherwise open\n",
    "    elif char == Item.LUMBERYARD:\n",
    "        if count[Item.LUMBERYARD] >= 1 and count[Item.TREE] >= 1:\n",
    "            return char\n",
    "        return Item.OPEN\n",
    "\n",
    "def update_grid(grid, n=1):\n",
    "    width, height = len(grid[0]), len(grid)\n",
    "    grid     = [[item for item in row] for row in grid]\n",
    "    buffer   = [[Item.OPEN for _ in range(width)] for _ in range(height)]\n",
    "    for _ in range(n):\n",
    "        for y, row in enumerate(grid):\n",
    "            for x, char in enumerate(row):\n",
    "                buffer[y][x] = get_next_state(grid, x, y)\n",
    "        tmp = grid\n",
    "        grid = buffer\n",
    "        buffer = tmp\n",
    "    return grid"
   ]
  },
  {
   "cell_type": "code",
   "execution_count": 70,
   "metadata": {},
   "outputs": [],
   "source": [
    "def grid_to_string(grid):\n",
    "    return '\\n'.join([''.join(row) for row in grid])"
   ]
  },
  {
   "cell_type": "code",
   "execution_count": 75,
   "metadata": {},
   "outputs": [],
   "source": [
    "filepath = 'data/day18.txt'\n",
    "#filepath = 'data/day18_mini.txt'\n",
    "grid = get_grid(filepath)\n",
    "#print(grid_to_string(grid))"
   ]
  },
  {
   "cell_type": "code",
   "execution_count": 76,
   "metadata": {},
   "outputs": [],
   "source": [
    "updated_grid = update_grid(grid, 10)\n",
    "#print(grid_to_string(updated_grid))"
   ]
  },
  {
   "cell_type": "code",
   "execution_count": 77,
   "metadata": {},
   "outputs": [],
   "source": [
    "def get_total_resource_value(grid):\n",
    "    count = {Item.TREE:0, Item.LUMBERYARD:0, Item.OPEN:0}\n",
    "    for row in grid:\n",
    "        for char in row:\n",
    "            count[char] += 1\n",
    "    return count[Item.TREE] * count[Item.LUMBERYARD]"
   ]
  },
  {
   "cell_type": "code",
   "execution_count": 84,
   "metadata": {},
   "outputs": [],
   "source": [
    "def update_until_repeat(grid):\n",
    "    width, height = len(grid[0]), len(grid)\n",
    "    grid     = [[item for item in row] for row in grid]\n",
    "    buffer   = [[Item.OPEN for _ in range(width)] for _ in range(height)]\n",
    "    grid_cache = {}\n",
    "    total_iter = 0\n",
    "    while True:\n",
    "        for y, row in enumerate(grid):\n",
    "            for x, char in enumerate(row):\n",
    "                buffer[y][x] = get_next_state(grid, x, y)\n",
    "        # swap buffers\n",
    "        total_iter += 1\n",
    "        tmp = grid\n",
    "        grid = buffer\n",
    "        buffer = tmp\n",
    "        # check if grid already exists\n",
    "        grid_str = grid_to_string(grid)\n",
    "        if grid_str in grid_cache:\n",
    "            break\n",
    "        grid_cache[grid_str] = total_iter\n",
    "    return (grid, (grid_cache[grid_str], total_iter))"
   ]
  },
  {
   "cell_type": "code",
   "execution_count": 85,
   "metadata": {},
   "outputs": [
    {
     "name": "stdout",
     "output_type": "stream",
     "text": [
      "Resource value: 678529\n"
     ]
    }
   ],
   "source": [
    "total_resource_value = get_total_resource_value(updated_grid)\n",
    "print('Resource value: {}'.format(total_resource_value))"
   ]
  },
  {
   "cell_type": "code",
   "execution_count": 86,
   "metadata": {},
   "outputs": [],
   "source": [
    "stable_grid, total_repeats = update_until_repeat(grid)"
   ]
  },
  {
   "cell_type": "code",
   "execution_count": 88,
   "metadata": {},
   "outputs": [
    {
     "name": "stdout",
     "output_type": "stream",
     "text": [
      "(431, 459)\n"
     ]
    }
   ],
   "source": [
    "period = total_repeats[1]-total_repeats[0]\n",
    "print(total_repeats)"
   ]
  },
  {
   "cell_type": "code",
   "execution_count": 90,
   "metadata": {},
   "outputs": [
    {
     "name": "stdout",
     "output_type": "stream",
     "text": [
      "440\n",
      "224005\n"
     ]
    }
   ],
   "source": [
    "total_minutes = 1000000000\n",
    "\n",
    "reduced_minutes = (total_minutes-total_repeats[1])%period + total_repeats[0]\n",
    "print(reduced_minutes)\n",
    "resource_value = get_total_resource_value(update_grid(grid, reduced_minutes))\n",
    "print(resource_value)"
   ]
  }
 ],
 "metadata": {
  "kernelspec": {
   "display_name": "Python 3",
   "language": "python",
   "name": "python3"
  },
  "language_info": {
   "codemirror_mode": {
    "name": "ipython",
    "version": 3
   },
   "file_extension": ".py",
   "mimetype": "text/x-python",
   "name": "python",
   "nbconvert_exporter": "python",
   "pygments_lexer": "ipython3",
   "version": "3.5.6"
  }
 },
 "nbformat": 4,
 "nbformat_minor": 2
}
