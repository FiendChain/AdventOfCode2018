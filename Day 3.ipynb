{
 "cells": [
  {
   "cell_type": "code",
   "execution_count": 56,
   "metadata": {},
   "outputs": [],
   "source": [
    "import numpy as np"
   ]
  },
  {
   "cell_type": "code",
   "execution_count": 1,
   "metadata": {},
   "outputs": [],
   "source": [
    "filepath = 'data/day3.txt'"
   ]
  },
  {
   "cell_type": "code",
   "execution_count": 18,
   "metadata": {},
   "outputs": [],
   "source": [
    "import re\n",
    "claim_pattern = re.compile(r'#(?P<id>\\d+) @ (?P<left_offset>\\d+),(?P<top_offset>\\d+): (?P<width>\\d+)x(?P<height>\\d+)')\n",
    "\n",
    "def get_claims(filepath, pattern):\n",
    "    with open(filepath) as file:\n",
    "        for line in file.readlines():\n",
    "            match = pattern.match(line)\n",
    "            match = match.groupdict()\n",
    "            id = int(match['id'])\n",
    "            left_offset = int(match['left_offset'])\n",
    "            top_offset = int(match['top_offset'])\n",
    "            width = int(match['width'])\n",
    "            height = int(match['height'])\n",
    "            yield (id, left_offset, top_offset, width, height)"
   ]
  },
  {
   "cell_type": "code",
   "execution_count": 123,
   "metadata": {},
   "outputs": [],
   "source": [
    "claims = list(get_claims(filepath, claim_pattern))"
   ]
  },
  {
   "cell_type": "code",
   "execution_count": 128,
   "metadata": {},
   "outputs": [],
   "source": [
    "fabric = [[[] for _ in range(1000)] for _ in range(1000)]"
   ]
  },
  {
   "cell_type": "code",
   "execution_count": 129,
   "metadata": {},
   "outputs": [],
   "source": [
    "for claim in claims:\n",
    "    id, x_off, y_off, width, height = claim\n",
    "    for x in range(x_off, x_off+width):\n",
    "        for y in range(y_off, y_off+height):\n",
    "            fabric[y][x].append(id)"
   ]
  },
  {
   "cell_type": "code",
   "execution_count": 130,
   "metadata": {},
   "outputs": [
    {
     "name": "stdout",
     "output_type": "stream",
     "text": [
      "101469 inches\n"
     ]
    }
   ],
   "source": [
    "total_coverage = 0\n",
    "for row in fabric:\n",
    "    for col in row:\n",
    "        if len(col) >= 2:\n",
    "            total_coverage += 1\n",
    "print('{} inches'.format(total_coverage))"
   ]
  },
  {
   "cell_type": "code",
   "execution_count": 132,
   "metadata": {},
   "outputs": [
    {
     "name": "stdout",
     "output_type": "stream",
     "text": [
      "1067\n"
     ]
    }
   ],
   "source": [
    "exclusion_list = {}\n",
    "for row in fabric:\n",
    "    for col in row:\n",
    "        if len(col) >= 2:\n",
    "            for id in col:\n",
    "                exclusion_list[id] = True\n",
    "\n",
    "for id, _, _, _, _ in claims:\n",
    "    if id not in exclusion_list:\n",
    "        print(id)\n",
    "        break"
   ]
  }
 ],
 "metadata": {
  "kernelspec": {
   "display_name": "Python 3",
   "language": "python",
   "name": "python3"
  },
  "language_info": {
   "codemirror_mode": {
    "name": "ipython",
    "version": 3
   },
   "file_extension": ".py",
   "mimetype": "text/x-python",
   "name": "python",
   "nbconvert_exporter": "python",
   "pygments_lexer": "ipython3",
   "version": "3.5.6"
  }
 },
 "nbformat": 4,
 "nbformat_minor": 2
}
