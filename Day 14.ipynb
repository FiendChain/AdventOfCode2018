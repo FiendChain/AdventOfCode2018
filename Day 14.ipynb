{
 "cells": [
  {
   "cell_type": "code",
   "execution_count": 25,
   "metadata": {},
   "outputs": [],
   "source": [
    "class Game:\n",
    "    def __init__(self):\n",
    "        self.recipes = []\n",
    "        self.elves = [] # index of their current recipe\n",
    "    \n",
    "    def add_elf(self, value):\n",
    "        self.elves.append(len(self.recipes))\n",
    "        self.recipes.append(value)\n",
    "    \n",
    "    def update(self):\n",
    "        # get combined recipes\n",
    "        sum = 0\n",
    "        for elf in self.elves:\n",
    "            recipe_score = self.recipes[elf]\n",
    "            sum += recipe_score\n",
    "        # add combined recipe digits\n",
    "        digits = [int(i) for i in str(sum)]\n",
    "        self.recipes.extend(digits)\n",
    "        # move the elf indexes\n",
    "        for index, recipe_index in enumerate(self.elves):\n",
    "            recipe_score = self.recipes[recipe_index]\n",
    "            new_index = recipe_index+(1+recipe_score)\n",
    "            new_index %= len(self.recipes)\n",
    "            self.elves[index] = new_index\n",
    "    \n",
    "    def __str__(self):\n",
    "        buffer = []\n",
    "        for index, recipe in enumerate(self.recipes):\n",
    "            if index in self.elves:\n",
    "                buffer.append('[{}]'.format(recipe))\n",
    "            else:\n",
    "                buffer.append(' {} '.format(recipe))\n",
    "        return ''.join(buffer)"
   ]
  },
  {
   "cell_type": "code",
   "execution_count": 33,
   "metadata": {},
   "outputs": [
    {
     "name": "stdout",
     "output_type": "stream",
     "text": [
      "2810862211\n"
     ]
    }
   ],
   "source": [
    "game = Game()\n",
    "game.add_elf(3)\n",
    "game.add_elf(7)\n",
    "\n",
    "INPUT_NUMBER = 509671\n",
    "SCORE_LENGTH = 10\n",
    "\n",
    "while len(game.recipes) < INPUT_NUMBER + SCORE_LENGTH:\n",
    "    game.update()\n",
    "\n",
    "recipes = game.recipes[INPUT_NUMBER:INPUT_NUMBER+SCORE_LENGTH+1]\n",
    "total_score = int(''.join([str(i) for i in recipes]))\n",
    "print(total_score)"
   ]
  },
  {
   "cell_type": "code",
   "execution_count": 54,
   "metadata": {},
   "outputs": [
    {
     "name": "stdout",
     "output_type": "stream",
     "text": [
      "Total recipes: 20227890\n"
     ]
    }
   ],
   "source": [
    "game = Game()\n",
    "game.add_elf(3)\n",
    "game.add_elf(7)\n",
    "\n",
    "INPUT_NUMBER = [int(i) for i in str(509671)]\n",
    "SCORE_LENGTH = len(INPUT_NUMBER)\n",
    "\n",
    "found_total_recipes = False\n",
    "last_index = 0\n",
    "iteration = 0\n",
    "while not found_total_recipes:\n",
    "    while len(game.recipes) < SCORE_LENGTH+last_index+1:\n",
    "        game.update()\n",
    "        iteration += 1\n",
    "    new_length = len(game.recipes)\n",
    "    for i in range(last_index+1, new_length-SCORE_LENGTH+1):\n",
    "        recipes = game.recipes[i:i+SCORE_LENGTH]\n",
    "        # compare sub recipes\n",
    "        for recipe_index in range(i, i+SCORE_LENGTH):\n",
    "            if INPUT_NUMBER[recipe_index-i] != game.recipes[recipe_index]:\n",
    "                break\n",
    "        # if recipe was confirmed\n",
    "        else:\n",
    "            found_total_recipes = True\n",
    "            break\n",
    "    last_index = new_length-SCORE_LENGTH\n",
    "\n",
    "print('Total recipes: {}'.format(last_index))"
   ]
  },
  {
   "cell_type": "code",
   "execution_count": 56,
   "metadata": {},
   "outputs": [
    {
     "data": {
      "text/plain": [
       "[5, 0, 9, 6, 7, 1, 3]"
      ]
     },
     "execution_count": 56,
     "metadata": {},
     "output_type": "execute_result"
    }
   ],
   "source": [
    "total_recipes = 20227890\n",
    "game.recipes[20227889:]"
   ]
  }
 ],
 "metadata": {
  "kernelspec": {
   "display_name": "Python 3",
   "language": "python",
   "name": "python3"
  },
  "language_info": {
   "codemirror_mode": {
    "name": "ipython",
    "version": 3
   },
   "file_extension": ".py",
   "mimetype": "text/x-python",
   "name": "python",
   "nbconvert_exporter": "python",
   "pygments_lexer": "ipython3",
   "version": "3.5.6"
  }
 },
 "nbformat": 4,
 "nbformat_minor": 2
}
