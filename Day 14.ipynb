{
 "cells": [
  {
   "cell_type": "code",
   "execution_count": 25,
   "metadata": {},
   "outputs": [],
   "source": [
    "class Game:\n",
    "    def __init__(self):\n",
    "        self.recipes = []\n",
    "        self.elves = [] # index of their current recipe\n",
    "    \n",
    "    def add_elf(self, value):\n",
    "        self.elves.append(len(self.recipes))\n",
    "        self.recipes.append(value)\n",
    "    \n",
    "    def update(self):\n",
    "        # get combined recipes\n",
    "        sum = 0\n",
    "        for elf in self.elves:\n",
    "            recipe_score = self.recipes[elf]\n",
    "            sum += recipe_score\n",
    "        # add combined recipe digits\n",
    "        digits = [int(i) for i in str(sum)]\n",
    "        self.recipes.extend(digits)\n",
    "        # move the elf indexes\n",
    "        for index, recipe_index in enumerate(self.elves):\n",
    "            recipe_score = self.recipes[recipe_index]\n",
    "            new_index = recipe_index+(1+recipe_score)\n",
    "            new_index %= len(self.recipes)\n",
    "            self.elves[index] = new_index\n",
    "    \n",
    "    def __str__(self):\n",
    "        buffer = []\n",
    "        for index, recipe in enumerate(self.recipes):\n",
    "            if index in self.elves:\n",
    "                buffer.append('[{}]'.format(recipe))\n",
    "            else:\n",
    "                buffer.append(' {} '.format(recipe))\n",
    "        return ''.join(buffer)"
   ]
  },
  {
   "cell_type": "code",
   "execution_count": 60,
   "metadata": {},
   "outputs": [],
   "source": [
    "def get_total_score(game, total_recipes, score_length):\n",
    "    while len(game.recipes) < total_recipes+score_length:\n",
    "        game.update()\n",
    "\n",
    "    recipes = game.recipes[total_recipes:total_recipes+score_length+1]\n",
    "    total_score = int(''.join([str(i) for i in recipes]))\n",
    "    return total_score"
   ]
  },
  {
   "cell_type": "code",
   "execution_count": 68,
   "metadata": {},
   "outputs": [],
   "source": [
    "def get_total_recipes(game, input_number):\n",
    "    input_number = [int(i) for i in str(input_number)]\n",
    "    score_length = len(input_number)\n",
    "\n",
    "    last_index = 0\n",
    "    while True:\n",
    "        # update until enough recipes are made to recheck\n",
    "        while len(game.recipes) < score_length+last_index+1:\n",
    "            game.update()\n",
    "        # get length of total recipes to rescan\n",
    "        # scan from [last_index...new_length-length_of_input]\n",
    "        new_length = len(game.recipes)\n",
    "        for i in range(last_index+1, new_length-score_length+1):\n",
    "            recipes = game.recipes[i:i+score_length]\n",
    "            # compare sub recipes\n",
    "            for recipe_index in range(i, i+score_length):\n",
    "                if input_number[recipe_index-i] != game.recipes[recipe_index]:\n",
    "                    break\n",
    "            # if recipe was confirmed\n",
    "            else:\n",
    "                found_total_recipes = True\n",
    "                # i is the first index of the sub-recipe\n",
    "                # and is also the number of recipes preceding the sub-recipe list\n",
    "                return i \n",
    "        last_index = new_length-score_length"
   ]
  },
  {
   "cell_type": "code",
   "execution_count": 62,
   "metadata": {},
   "outputs": [
    {
     "name": "stdout",
     "output_type": "stream",
     "text": [
      "2810862211\n"
     ]
    }
   ],
   "source": [
    "game = Game()\n",
    "game.add_elf(3)\n",
    "game.add_elf(7)\n",
    "\n",
    "total_recipes = 509671\n",
    "score_length = 10\n",
    "total_score = get_total_score(game, total_recipes, 10)\n",
    "\n",
    "print(total_score)"
   ]
  },
  {
   "cell_type": "code",
   "execution_count": 74,
   "metadata": {},
   "outputs": [
    {
     "name": "stdout",
     "output_type": "stream",
     "text": [
      "20227889\n",
      "[5, 0, 9, 6, 7, 1, 3]\n"
     ]
    }
   ],
   "source": [
    "game = Game()\n",
    "game.add_elf(3)\n",
    "game.add_elf(7)\n",
    "\n",
    "target_score = 509671\n",
    "total_recipes = get_total_recipes(game, target_score)\n",
    "print(total_recipes)\n",
    "print(game.recipes[total_recipes:])"
   ]
  }
 ],
 "metadata": {
  "kernelspec": {
   "display_name": "Python 3",
   "language": "python",
   "name": "python3"
  },
  "language_info": {
   "codemirror_mode": {
    "name": "ipython",
    "version": 3
   },
   "file_extension": ".py",
   "mimetype": "text/x-python",
   "name": "python",
   "nbconvert_exporter": "python",
   "pygments_lexer": "ipython3",
   "version": "3.5.6"
  }
 },
 "nbformat": 4,
 "nbformat_minor": 2
}
